{
 "cells": [
  {
   "cell_type": "markdown",
   "metadata": {},
   "source": [
    "### BAYES DECISION THEORY"
   ]
  },
  {
   "cell_type": "markdown",
   "metadata": {},
   "source": [
    "1 . Walking through the jungle, you see a large feline shadow. However, you can not identify what animal it is. You know that, in this area of the jungle, $90\\%$ of felines are not dangerous cats whereas the other $10 \\%$ are pumas. In addition, you know $80\\%$ of cats are smaller than the animal you are seeing whereas $85\\%$ of pumas has a similar size. Would you run?\n",
    "\n",
    "<img src=\"ex1png\">\n"
   ]
  },
  {
   "cell_type": "code",
   "execution_count": 2,
   "metadata": {
    "collapsed": true
   },
   "outputs": [],
   "source": [
    "#SOLUTION:"
   ]
  },
  {
   "cell_type": "markdown",
   "metadata": {},
   "source": [
    "### GAUSSIAN CLASSIFICATION"
   ]
  },
  {
   "cell_type": "markdown",
   "metadata": {},
   "source": [
    "2 . Following the exercise 1 from Bayes Decision Theory, assume that the variable size is continuous:\n",
    "\n",
    "a . Plot a figure (approximated) of the distribution functions $p(size | cat)$ and $p(size | puma)$. To do so, assume that the size of cats and pumas follow a normal distribution where the  cats are in average smaller than pumas. Moreover, you know that the size of different cat species use to be more variable than in the case of pumas.\n",
    "\n",
    "b . Over the same figure, and following the Bayesian Decision Theory, draw the 2 decision regions which classify cats and pumas with respect to their size. Draw also the region which corresponds to the decision error."
   ]
  },
  {
   "cell_type": "code",
   "execution_count": 1,
   "metadata": {},
   "outputs": [
    {
     "ename": "NameError",
     "evalue": "name 'plt' is not defined",
     "output_type": "error",
     "traceback": [
      "\u001b[0;31m---------------------------------------------------------------------------\u001b[0m",
      "\u001b[0;31mNameError\u001b[0m                                 Traceback (most recent call last)",
      "\u001b[0;32m<ipython-input-1-64786066b2ec>\u001b[0m in \u001b[0;36m<module>\u001b[0;34m\u001b[0m\n\u001b[1;32m      4\u001b[0m \u001b[0mxvals\u001b[0m \u001b[0;34m=\u001b[0m \u001b[0mnp\u001b[0m\u001b[0;34m.\u001b[0m\u001b[0marange\u001b[0m\u001b[0;34m(\u001b[0m\u001b[0;36m0\u001b[0m\u001b[0;34m,\u001b[0m \u001b[0;36m2.\u001b[0m\u001b[0;34m,\u001b[0m \u001b[0;36m0.01\u001b[0m\u001b[0;34m)\u001b[0m \u001b[0;31m# Grid of 0.01 spacing from 0 to 1 (representing meters of length)\u001b[0m\u001b[0;34m\u001b[0m\u001b[0;34m\u001b[0m\u001b[0m\n\u001b[1;32m      5\u001b[0m \u001b[0myvals\u001b[0m \u001b[0;34m=\u001b[0m \u001b[0;36m0.1\u001b[0m\u001b[0;34m*\u001b[0m\u001b[0mnp\u001b[0m\u001b[0;34m.\u001b[0m\u001b[0mexp\u001b[0m\u001b[0;34m(\u001b[0m\u001b[0;34m-\u001b[0m\u001b[0;34m(\u001b[0m\u001b[0mxvals\u001b[0m\u001b[0;34m-\u001b[0m\u001b[0;36m1\u001b[0m\u001b[0;34m)\u001b[0m\u001b[0;34m**\u001b[0m\u001b[0;36m2\u001b[0m\u001b[0;34m/\u001b[0m\u001b[0;34m(\u001b[0m\u001b[0;36m2\u001b[0m\u001b[0;34m*\u001b[0m\u001b[0;36m0.2\u001b[0m\u001b[0;34m**\u001b[0m\u001b[0;36m2\u001b[0m\u001b[0;34m)\u001b[0m\u001b[0;34m)\u001b[0m\u001b[0;34m/\u001b[0m\u001b[0mnp\u001b[0m\u001b[0;34m.\u001b[0m\u001b[0msqrt\u001b[0m\u001b[0;34m(\u001b[0m\u001b[0;36m2\u001b[0m\u001b[0;34m*\u001b[0m\u001b[0;36m3.14\u001b[0m\u001b[0;34m*\u001b[0m\u001b[0;36m0.2\u001b[0m\u001b[0;34m**\u001b[0m\u001b[0;36m2\u001b[0m\u001b[0;34m)\u001b[0m \u001b[0;31m# Probability\u001b[0m\u001b[0;34m\u001b[0m\u001b[0;34m\u001b[0m\u001b[0m\n\u001b[0;32m----> 6\u001b[0;31m \u001b[0mplt\u001b[0m\u001b[0;34m.\u001b[0m\u001b[0mplot\u001b[0m\u001b[0;34m(\u001b[0m\u001b[0mxvals\u001b[0m\u001b[0;34m,\u001b[0m \u001b[0myvals\u001b[0m\u001b[0;34m)\u001b[0m \u001b[0;31m# Create line plot with yvals against xvals\u001b[0m\u001b[0;34m\u001b[0m\u001b[0;34m\u001b[0m\u001b[0m\n\u001b[0m",
      "\u001b[0;31mNameError\u001b[0m: name 'plt' is not defined"
     ]
    }
   ],
   "source": [
    "#SOLUTION:\n",
    "import numpy as np\n",
    "import matplotlib.pyplot as pltw\n",
    "xvals = np.arange(0, 2., 0.01) # Grid of 0.01 spacing from 0 to 1 (representing meters of length)\n",
    "yvals = 0.1*np.exp(-(xvals-1)**2/(2*0.2**2))/np.sqrt(2*3.14*0.2**2) # Probability\n",
    "plt.plot(xvals, yvals) # Create line plot with yvals against xvals"
   ]
  },
  {
   "cell_type": "markdown",
   "metadata": {},
   "source": [
    "3 . Consider a 2-class classification task in the 2-dimensional space, where the data in both classes, $\\omega_1$, $\\omega_2$, are distributed according to the Gaussian distributions $N(\\mu_1,\\Sigma_1)$ and $N(\\mu_2,\\Sigma_2)$, respectively. \n",
    "\n",
    "Let\n",
    "$$\\mu_1 = [1, 1]^T, \\mu_2 = [4, 4]^T, \\Sigma_1 = \\Sigma_2 = \n",
    "  \\left[ {\\begin{array}{ccccc}\n",
    "   1 & 0 \\\\\n",
    "   0 & 1\\\\\n",
    "  \\end{array} } \\right]$$\n",
    "  Assuming that $p(\\omega_1 ) = p(\\omega_2 ) = 1/2$, do the following:\n",
    "  \n",
    "  a) Find the discriminant functions.\n",
    "  \n",
    "  b) Use them to classify the point $x = [2, 2]^T$ into $\\omega_1$ or $\\omega_2$.\n",
    "  \n",
    "  b) Find the decision line.\n",
    "\n",
    "<img src=\"ex3.png\">"
   ]
  },
  {
   "cell_type": "code",
   "execution_count": 12,
   "metadata": {
    "collapsed": true
   },
   "outputs": [],
   "source": [
    "#SOLUTION:\n"
   ]
  },
  {
   "cell_type": "markdown",
   "metadata": {},
   "source": [
    "4 . A team of researchers are investigating a new lung cancer detection method based on a blood test that returns two biological variables $X_1$ and $X_2$. They ask you to build a Gaussian classifier that uses these variables to predict whether the patient has lung cancer (Positive $P$) or not (Negative $N$), they say you that in the stage where this method would be applied $p(N)=10p(P)$. They also tell you that since missclassifying a cancer sufferer as a healthy patient is a much more serious problem than the other way arround, you should use the cost functions $C_{PP}=C_{NN}=0$, $C_{PN}=1$ and $C_{NP}=10$.\n",
    "\n",
    "a. Create a function that, given the test result, classifies it in positive ($P$) or negative ($N$) using the discriminant functions.\n",
    "\n",
    "b. Classify a new patient whose test result is $x_{New Patient}= [8,7]$  \n",
    "\n",
    "c. Plot the contours of both Gaussian likelihoods. "
   ]
  },
  {
   "cell_type": "code",
   "execution_count": 3,
   "metadata": {},
   "outputs": [
    {
     "data": {
      "text/plain": [
       "<matplotlib.collections.PathCollection at 0x7f4342acfc88>"
      ]
     },
     "execution_count": 3,
     "metadata": {},
     "output_type": "execute_result"
    },
    {
     "data": {
      "image/png": "[encoded data removed]",
      "text/plain": [
       "<matplotlib.figure.Figure at 0x7f4342a922b0>"
      ]
     },
     "metadata": {},
     "output_type": "display_data"
    }
   ],
   "source": [
    "#DATASET\n",
    "# P1 are matrices containing the data of the patients with and without lung cancer respectively.\n",
    "#The rows correspond to patients (100 for each case) and the columns correspond to the two analyzed features (X1 and X2).\n",
    "\n",
    "P=np.array([[7.15267067,7.37800572],[4.00774848,6.54352764],[7.20485001,5.90008761],[5.96889274,5.17705613],[5.61084386,4.90783194],[4.99927047,4.2819587],[5.51788312,7.10953761],[4.67345738,5.54523265],[3.52408561,2.94166278],[2.9588445,3.68972199],[7.16269967,7.40264268],[5.88889445,6.8217227],[5.75038442,4.14638014],[6.92250082,5.00280569],[5.9872651,4.07715757],[5.00461255,4.16403147],[6.14498079,4.52607942],[7.05227537,6.57635913],[5.74900402,4.59155276],[4.65584157,4.97389118],[2.53930421,1.74826767],[6.46012673,6.78144006],[4.53314714,5.70994245],[6.21763363,6.4561556],[3.38402385,5.85313943],[3.42338412,5.20410432],[6.60559763,6.65445851],[7.2140991,4.21619378],[4.96085373,3.89873766],[3.02605181,2.17288892],[8.00216005,6.74241947],[6.31073998,5.91018722],[5.05371009,4.34244627],[4.39932054,4.87096481],[6.11384769,5.62424135],[5.76573683,4.56430965],[4.7008671,6.62049062],[5.80251456,5.62129431],[3.29307104,2.11658948],[7.01341252,6.85131354],[1.91963294,2.86056447],[4.58049357,6.88444924],[4.45651733,0.23843544],[5.15187153,3.36321875],[6.55397501,5.30578532],[3.98927366,4.0560578],[4.0570171,4.9852795],[9.51441897,6.49015246],[4.45035942,6.31390124],[5.65605139,3.50298773],[3.45121937,4.80465048],[5.3485735,3.84423827],[6.57018818,6.8071254],[5.34965447,6.54958203],[5.00908689,5.05523496],[5.93920093,7.02582849],[4.0130942,5.93594118],[4.7245753,4.55322464],[4.73193075,7.13545587],[5.46011342,4.18071163],[3.09690776,4.17199523],[5.23734345,6.1616593],[7.76306006,7.9595909],[5.65117516,4.37684486],[1.8843533,5.33104348],[4.45980699,4.73272677],[4.73326194,6.27367295],[4.30810454,5.76621238],[5.78031421,5.84169263],[4.61611466,4.22082901],[5.49207547,5.15252569],[3.66976287,5.66035735],[5.11266073,4.45000009],[3.87877071,3.49829982],[5.93743951,4.86627198],[6.44682483,4.75118166],[3.39321817,5.44492779],[3.74238665,4.46267881],[3.6922608,3.18657049],[5.58591571,5.23420144],[2.85501648,4.25585017],[5.45766383,4.21379446],[3.10113664,3.65629664],[6.79814104,7.27384995],[7.60697026,5.94703912],[3.95071962,6.06097267],[6.18899857,6.32959581],[3.70671683,4.9860045],[3.53662304,4.91582357],[6.6917087,6.87215351],[6.18597047,5.69921354],[3.65100208,5.87967763],[5.38767069,7.59028993],[4.85497734,5.95128392],[6.34637799,6.12032251],[5.07416448,6.02500479],[3.91471724,6.21729745],[4.26907662,4.41040773],[4.79248003,3.22294776],[4.9109489,3.40473162]])\n",
    "N=np.array([[14.40457726,6.36930484],[12.05772916,6.1141294],[11.37196023,6.7441286],[7.6049091,10.10121276],[10.65859645,1.9623328],[11.1500412,5.00230973],[9.41808844,6.85705138],[10.69576797,7.41041588],[10.36997596,6.81097991],[7.18865455,7.6140839],[9.50890466,4.79604616],[11.65522454,6.11116809],[7.81620712,9.23662467],[12.73870688,4.1354028],[10.70993875,5.39203592],[10.46401431,4.41600653],[8.34718394,6.42238621],[10.08398116,8.41993175],[7.85803825,8.86533876],[8.11699889,8.93032204],[11.78015403,4.99452891],[5.97492913,11.49343175],[10.60040295,5.95156558],[8.57947338,10.67700601],[9.04982286,8.5024511],[11.7205309,8.28341595],[8.55675102,9.9949193],[10.72225117,5.77513228],[12.98919125,4.40291967],[10.90838658,7.94909823],[11.82793007,5.87569213],[9.3919561,6.39371361],[10.43513736,5.53377138],[11.84024533,4.12273822],[10.26241222,5.79084411],[13.26941743,2.31886852],[12.78399928,4.91311067],[9.48810514,6.91917506],[9.46534841,7.72412819],[10.85736916,7.72422409],[12.33675243,5.37862968],[10.64024419,6.21494708],[12.90334055,3.92111074],[11.73177315,6.57529234],[10.2741246,6.79383992],[8.17312495,7.85211009],[11.92872015,5.55279256],[9.37838179,6.72728729],[10.29197819,8.94944631],[11.07431109,5.3590866],[8.51732426,8.87818449],[6.91519527,11.15580496],[11.49894253,4.43228338],[8.73897865,8.88974167],[13.16776307,3.7179727],[11.92712129,7.1531012],[12.40046217,5.13827851],[9.1764626,5.70719164],[9.8474565,8.04438164],[12.39138106,6.11791888],[10.58537509,7.14640252],[7.75943306,8.4996934],[10.28277658,8.15240507],[9.88548315,6.99918664],[10.09846725,5.61481552],[6.57095472,8.55849656],[10.05995127,6.0275779],[11.29832919,6.72556741],[7.67391285,8.64960191],[8.66299193,6.29946056],[11.03526652,5.4614966],[11.18282208,6.6748613],[9.94417663,5.81806107],[6.79567814,7.64802993],[8.80925449,5.32768242],[11.84468331,6.83322737],[8.91483132,9.1755647],[9.72224858,7.79253946],[10.82814799,6.99657084],[8.75272806,6.28967301],[11.37024292,9.17974845],[10.09092833,6.53534269],[9.6339662,7.85856253],[11.22670099,7.06119565],[12.82113923,7.01155259],[8.93089068,9.94254477],[9.73410625,6.1056488],[9.52659482,8.33058305],[10.12682011,7.35493238],[11.23580773,6.65363445],[11.13411395,7.66074649],[7.97234237,9.96323179],[11.17795863,8.09613842],[10.44709395,5.62556185],[11.39898144,7.62376168],[6.80456177,10.07411417],[10.7420679,6.45027308],[12.06065362,9.49935241],[7.55153067,9.17275758],[8.35882938,8.62012803]])\n",
    "\n",
    "plt.scatter(P[:,0],P[:,1])\n",
    "plt.scatter(N[:,0],N[:,1])"
   ]
  }
 ],
 "metadata": {
  "kernelspec": {
   "display_name": "Python 3",
   "language": "python",
   "name": "python3"
  },
  "language_info": {
   "codemirror_mode": {
    "name": "ipython",
    "version": 3
   },
   "file_extension": ".py",
   "mimetype": "text/x-python",
   "name": "python",
   "nbconvert_exporter": "python",
   "pygments_lexer": "ipython3",
   "version": "3.6.5"
  },
  "latex_envs": {
   "LaTeX_envs_menu_present": true,
   "autoclose": false,
   "autocomplete": true,
   "bibliofile": "biblio.bib",
   "cite_by": "apalike",
   "current_citInitial": 1,
   "eqLabelWithNumbers": true,
   "eqNumInitial": 1,
   "hotkeys": {
    "equation": "Ctrl-E",
    "itemize": "Ctrl-I"
   },
   "labels_anchors": false,
   "latex_user_defs": false,
   "report_style_numbering": false,
   "user_envs_cfg": false
  },
  "varInspector": {
   "cols": {
    "lenName": 16,
    "lenType": 16,
    "lenVar": 40
   },
   "kernels_config": {
    "python": {
     "delete_cmd_postfix": "",
     "delete_cmd_prefix": "del ",
     "library": "var_list.py",
     "varRefreshCmd": "print(var_dic_list())"
    },
    "r": {
     "delete_cmd_postfix": ") ",
     "delete_cmd_prefix": "rm(",
     "library": "var_list.r",
     "varRefreshCmd": "cat(var_dic_list()) "
    }
   },
   "types_to_exclude": [
    "module",
    "function",
    "builtin_function_or_method",
    "instance",
    "_Feature"
   ],
   "window_display": false
  }
 },
 "nbformat": 4,
 "nbformat_minor": 2
}
