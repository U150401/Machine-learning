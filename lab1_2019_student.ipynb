{
 "cells": [
  {
   "cell_type": "markdown",
   "metadata": {},
   "source": [
    "# <center>MACHINE LEARNING <br> LAB Session 1</center>"
   ]
  },
  {
   "cell_type": "markdown",
   "metadata": {},
   "source": [
    "### Due date: up to May, 19th, 23:55h. \n",
    "### Submission procedure: via Moodle.\n",
    "\n",
    "### Objectives: \n",
    "\n",
    "In this lab session we will work through a case study of regression predictive modeling problem in Python from scratch following each step phase of a machine learning project: from data exploration to prediction and validation. In particular, the main goals are:\n",
    "- Exploratory data analysis: descriptive statistics, unimodal and multimodal data visualizations\n",
    "- Optimization development based on gradient descent: one and multiple variables\n",
    "- Overfitting prevention: regularization using Ridge and Lasso\n",
    "- Evaluation of algorithms and effect of variables standardization\n"
   ]
  },
  {
   "cell_type": "markdown",
   "metadata": {},
   "source": [
    "### Deliverables per team of two persons:\n",
    "1. A zip file with all the Python/Jupiter Notebooks. They should be functional and have sufficient comments to allow for proper interpretation.\n",
    "\n",
    "2. A report consisting of 2 sections:    \n",
    "    (a) A brief description of the Python functions, their inputs and outputs, and their interoperability. (Approximate length: 1 page).    \n",
    "    (b) A simulation section that addresses the questions formulated below.\n",
    "\n",
    "###### Note 1: make sure the plots you include are large enough to be readable (preferably no more than two figures per page), and include legends."
   ]
  },
  {
   "cell_type": "markdown",
   "metadata": {},
   "source": [
    "***\n",
    "### Use Case description:\n",
    "In this lab exercise we work as data scientists in a large real state company in USA. The sales managers of our company asked us to develop a new analytical model to estimate the market value of houses in Boston.\n",
    "\n",
    "To develop this use case we will follow each step of a regression machine learning process. We will work with the Boston House Price dataset that was published by the Boston Standard Metropolitan Statistical Area in the 70s. **Each record in the database describes a Boston suburb or town**. The dataset housing.csv (**download it!**) is a modified version of the Boston Housing dataset from the UCI Machine Learning Repository.  The attributes are defined as follows:\n",
    " \n",
    "1. CRIM: per capita crime rate by town\n",
    "2. ZN: proportion of residential land zoned for lots over 25,000 sq.ft.\n",
    "3. INDUS: proportion of non-retail business acres per town\n",
    "4. CHAS: Charles River dummy variable (= 1 if tract bounds river; 0 otherwise)\n",
    "5. NOX: nitric oxides concentration (parts per 10 million) 1\n",
    "6. RM: average number of rooms per dwelling\n",
    "7. AGE: proportion of owner-occupied units built prior to 1940\n",
    "8. DIS: weighted distances to five Boston employment centers\n",
    "9. RAD: index of accessibility to radial highways\n",
    "10. TAX: full-value property-tax rate per 10,000 USD\n",
    "11. PTRATIO: pupil-teacher ratio by town\n",
    "12. B: 1000(Bk − 0.63)2 where Bk is the proportion of blacks by town\n",
    "13. LSTAT: % lower status of the population\n",
    "14. MEDV: Median value of owner-occupied homes in 1000s\n",
    "\n",
    "Notice that MEDV is our target value $t$ since we are asked to estimate the price of the houses in Boston. Thus, our input attributes $x_1,\\dots,x_D$ are the other 13 attributes (so $D = 13$).  The features 'RM', 'LSTAT', and 'PTRATIO' give us quantitative information about each data point. "
   ]
  },
  {
   "cell_type": "markdown",
   "metadata": {},
   "source": [
    "***\n",
    "### Questions"
   ]
  },
  {
   "cell_type": "code",
   "execution_count": 2,
   "metadata": {},
   "outputs": [
    {
     "data": {
      "text/html": [
       "<div>\n",
       "<style scoped>\n",
       "    .dataframe tbody tr th:only-of-type {\n",
       "        vertical-align: middle;\n",
       "    }\n",
       "\n",
       "    .dataframe tbody tr th {\n",
       "        vertical-align: top;\n",
       "    }\n",
       "\n",
       "    .dataframe thead th {\n",
       "        text-align: right;\n",
       "    }\n",
       "</style>\n",
       "<table border=\"1\" class=\"dataframe\">\n",
       "  <thead>\n",
       "    <tr style=\"text-align: right;\">\n",
       "      <th></th>\n",
       "      <th>crim</th>\n",
       "      <th>zn</th>\n",
       "      <th>indus</th>\n",
       "      <th>chas</th>\n",
       "      <th>nox</th>\n",
       "      <th>rm</th>\n",
       "      <th>age</th>\n",
       "      <th>dis</th>\n",
       "      <th>rad</th>\n",
       "      <th>tax</th>\n",
       "      <th>ptratio</th>\n",
       "      <th>b</th>\n",
       "      <th>lstat</th>\n",
       "      <th>medv</th>\n",
       "    </tr>\n",
       "  </thead>\n",
       "  <tbody>\n",
       "    <tr>\n",
       "      <th>0</th>\n",
       "      <td>0.00632</td>\n",
       "      <td>18.0</td>\n",
       "      <td>2.31</td>\n",
       "      <td>0</td>\n",
       "      <td>0.538</td>\n",
       "      <td>6.575</td>\n",
       "      <td>65.2</td>\n",
       "      <td>4.0900</td>\n",
       "      <td>1</td>\n",
       "      <td>296</td>\n",
       "      <td>15.3</td>\n",
       "      <td>396.90</td>\n",
       "      <td>4.98</td>\n",
       "      <td>24.0</td>\n",
       "    </tr>\n",
       "    <tr>\n",
       "      <th>1</th>\n",
       "      <td>0.02731</td>\n",
       "      <td>0.0</td>\n",
       "      <td>7.07</td>\n",
       "      <td>0</td>\n",
       "      <td>0.469</td>\n",
       "      <td>6.421</td>\n",
       "      <td>78.9</td>\n",
       "      <td>4.9671</td>\n",
       "      <td>2</td>\n",
       "      <td>242</td>\n",
       "      <td>17.8</td>\n",
       "      <td>396.90</td>\n",
       "      <td>9.14</td>\n",
       "      <td>21.6</td>\n",
       "    </tr>\n",
       "    <tr>\n",
       "      <th>2</th>\n",
       "      <td>0.02729</td>\n",
       "      <td>0.0</td>\n",
       "      <td>7.07</td>\n",
       "      <td>0</td>\n",
       "      <td>0.469</td>\n",
       "      <td>7.185</td>\n",
       "      <td>61.1</td>\n",
       "      <td>4.9671</td>\n",
       "      <td>2</td>\n",
       "      <td>242</td>\n",
       "      <td>17.8</td>\n",
       "      <td>392.83</td>\n",
       "      <td>4.03</td>\n",
       "      <td>34.7</td>\n",
       "    </tr>\n",
       "    <tr>\n",
       "      <th>3</th>\n",
       "      <td>0.03237</td>\n",
       "      <td>0.0</td>\n",
       "      <td>2.18</td>\n",
       "      <td>0</td>\n",
       "      <td>0.458</td>\n",
       "      <td>6.998</td>\n",
       "      <td>45.8</td>\n",
       "      <td>6.0622</td>\n",
       "      <td>3</td>\n",
       "      <td>222</td>\n",
       "      <td>18.7</td>\n",
       "      <td>394.63</td>\n",
       "      <td>2.94</td>\n",
       "      <td>33.4</td>\n",
       "    </tr>\n",
       "    <tr>\n",
       "      <th>4</th>\n",
       "      <td>0.06905</td>\n",
       "      <td>0.0</td>\n",
       "      <td>2.18</td>\n",
       "      <td>0</td>\n",
       "      <td>0.458</td>\n",
       "      <td>7.147</td>\n",
       "      <td>54.2</td>\n",
       "      <td>6.0622</td>\n",
       "      <td>3</td>\n",
       "      <td>222</td>\n",
       "      <td>18.7</td>\n",
       "      <td>396.90</td>\n",
       "      <td>5.33</td>\n",
       "      <td>36.2</td>\n",
       "    </tr>\n",
       "  </tbody>\n",
       "</table>\n",
       "</div>"
      ],
      "text/plain": [
       "      crim    zn  indus  chas    nox     rm   age     dis  rad  tax  ptratio  \\\n",
       "0  0.00632  18.0   2.31     0  0.538  6.575  65.2  4.0900    1  296     15.3   \n",
       "1  0.02731   0.0   7.07     0  0.469  6.421  78.9  4.9671    2  242     17.8   \n",
       "2  0.02729   0.0   7.07     0  0.469  7.185  61.1  4.9671    2  242     17.8   \n",
       "3  0.03237   0.0   2.18     0  0.458  6.998  45.8  6.0622    3  222     18.7   \n",
       "4  0.06905   0.0   2.18     0  0.458  7.147  54.2  6.0622    3  222     18.7   \n",
       "\n",
       "        b  lstat  medv  \n",
       "0  396.90   4.98  24.0  \n",
       "1  396.90   9.14  21.6  \n",
       "2  392.83   4.03  34.7  \n",
       "3  394.63   2.94  33.4  \n",
       "4  396.90   5.33  36.2  "
      ]
     },
     "execution_count": 2,
     "metadata": {},
     "output_type": "execute_result"
    }
   ],
   "source": [
    "# Read dataset and import necessary libraries\n",
    "\n",
    "import pandas as pd\n",
    "import numpy as np\n",
    "import seaborn as sns\n",
    "from sklearn.model_selection import train_test_split\n",
    "\n",
    "import matplotlib.pyplot as plt\n",
    "\n",
    "# Load the Boston housing dataset\n",
    "boston = pd.read_csv('BostonHousing.csv')\n",
    "boston.head()\n",
    "\n",
    "# t0 = ?\n",
    "# X0 = ?"
   ]
  },
  {
   "cell_type": "markdown",
   "metadata": {},
   "source": [
    "**Q1. Exploratory data analysis**\n",
    "\n",
    "Consider the 3 most significative attributes (RM, LSTAT and PTRATIO) and the variable to predict (MEDV).\n",
    "\n",
    "a) Evaluate the dimension of the dataset and the type of the given variables (float, string, integer, etc.).\n",
    "\n",
    "b) Generate a table with the main statistics of the distribution (i.e. mean, standard deviation, median, min and max) of each attribute.\n",
    "\n",
    "c) Calculate the correlation between all of the numeric attributes and comment the results. Which are the variables with more and less correlation with respect to the variable to predict (MEDV)?\n",
    "\n",
    "d) Plot a histogram of each of the numeric attributes. Can you recognize any specific distribution (exponential, bimodal...)? "
   ]
  },
  {
   "cell_type": "code",
   "execution_count": 3,
   "metadata": {},
   "outputs": [
    {
     "data": {
      "image/png": "[encoded data removed]",
      "text/plain": [
       "<Figure size 432x288 with 1 Axes>"
      ]
     },
     "metadata": {
      "needs_background": "light"
     },
     "output_type": "display_data"
    },
    {
     "data": {
      "image/png": "[encoded data removed]",
      "text/plain": [
       "<Figure size 432x288 with 1 Axes>"
      ]
     },
     "metadata": {
      "needs_background": "light"
     },
     "output_type": "display_data"
    },
    {
     "data": {
      "image/png": "[encoded data removed]",
      "text/plain": [
       "<Figure size 432x288 with 1 Axes>"
      ]
     },
     "metadata": {
      "needs_background": "light"
     },
     "output_type": "display_data"
    }
   ],
   "source": [
    "# Read dataset and import necessary libraries\n",
    "from numpy import matrix\n",
    "from numpy.linalg import inv\n",
    "import statistics\n",
    "\n",
    "# Load the Boston housing dataset\n",
    "boston = pd.read_csv('BostonHousing.csv')\n",
    "boston.head()\n",
    "x=np.array(boston)\n",
    "np.shape(x)\n",
    "x1 = x[:,5] #RM\n",
    "x2 = x[:,12] #LSTAT\n",
    "x3 = x[:,10] #PTRATIO\n",
    "#############################################EX1\n",
    "meanx1=x1.mean()\n",
    "meanx2=x2.mean()\n",
    "meanx3=x3.mean()\n",
    "std1=np.std(x1)\n",
    "std2=np.std(x2)\n",
    "std3=np.std(x3)\n",
    "medianx1=statistics.median(x1)\n",
    "medianx1=statistics.median(x2)\n",
    "medianx1= statistics.median(x3)\n",
    "minx1=min(x1)\n",
    "minx2=min(x2)\n",
    "minx3=min(x3)\n",
    "maxx1=max(x1)\n",
    "maxx3=max(x2)\n",
    "maxx3=max(x3)\n",
    "##############################################EX2\n",
    "\n",
    "t = x[:,13]  #t --> valors a predeir medv\n",
    "\n",
    "#X=np.transpose(np.array([np.ones(),x1,x2,x3]))\n",
    "#w=np.dot(np.dot(inv(np.dot(np.transpose(X),X)),np.transpose(X)),t)\n",
    "#w=np.dot(np.linalg.pinv(X),t)\n",
    "\n",
    "#P=np.corrcoef(np.transpose(X),t)\n",
    "\n",
    "plt.hist(x1, bins = 60)\n",
    "plt.show()\n",
    "plt.hist(x2, bins = 60)\n",
    "plt.show()\n",
    "plt.hist(x3, bins = 60)\n",
    "plt.show()\n",
    "\n",
    "\n"
   ]
  },
  {
   "cell_type": "markdown",
   "metadata": {},
   "source": [
    "**Q2. Regression model with one variable** \n",
    "\n",
    "Select the most correlated attribute (out of the 3 most significative: RM, LSTAT and PTRATIO) to the variable to predict (MEDV).\n",
    "\n",
    "a) Plot the data points $(x_j,t_j)$ and choose a regression model (linear, polynomial,...) according to the data set.\n",
    "\n",
    "b) Train the chosen regression model with (1) the closed-form solution and (2) with a batch gradient descent strategy. Plot both models on the dataset and analyse the results.\n",
    "\n",
    "c) For the gradient descent strategy, plot the error-iteration graph for different choices of the learning rate $\\alpha$.  Comment the result."
   ]
  },
  {
   "cell_type": "code",
   "execution_count": 4,
   "metadata": {
    "collapsed": true
   },
   "outputs": [],
   "source": [
    "# computeCost : average sum of squares error. Expects\n",
    "#     X : NxD design matrix\n",
    "#     t : Nx1 target response variable\n",
    "#     theta : model parameters\n",
    "def computeCost(X, t, theta):\n",
    "    N = len(t) # number of training examples\n",
    "    temp = np.dot(X, theta) - t\n",
    "    return np.sum(np.power(temp, 2)) / (2*N)\n",
    "\n",
    "# gradientDescent expects \n",
    "#     X : matrix of shape NxD\n",
    "#     t : vector of shape Nx1\n",
    "#     alpha : learning rate\n",
    "#     T : number of iterations\n",
    "# Returns a Tx2x1 tensor with theta for each iteration\n",
    "\n",
    "def gradientDescent(X, t, theta, alpha, T):\n",
    "    vtheta = np.zeros([T,2])\n",
    "    N = len(t) # number of training examples\n",
    "    for it in range(T):\n",
    "        y = np.dot(X, theta) - t     # error for current parameters theta\n",
    "        grad = np.dot(X.T, y)        # product between error and input\n",
    "        theta = theta - (alpha/N) * grad\n",
    "        vtheta[it,:] = theta\n",
    "    return vtheta"
   ]
  },
  {
   "cell_type": "code",
   "execution_count": 5,
   "metadata": {
    "collapsed": true
   },
   "outputs": [],
   "source": [
    "'''\n",
    "plt.scatter(x1,t)\n",
    "plt.show()\n",
    "plt.scatter(x2,t)\n",
    "plt.show()\n",
    "plt.scatter(x3,t)\n",
    "plt.show()\n",
    "'''\n",
    "x2 = np.array(x2)\n"
   ]
  },
  {
   "cell_type": "code",
   "execution_count": 9,
   "metadata": {},
   "outputs": [
    {
     "name": "stdout",
     "output_type": "stream",
     "text": [
      "[42.86214057 -2.33284152  0.04354754]\n",
      "[1.08442834 1.05913867]\n"
     ]
    },
    {
     "data": {
      "image/png": "[encoded data removed]",
      "text/plain": [
       "<Figure size 432x288 with 1 Axes>"
      ]
     },
     "metadata": {
      "needs_background": "light"
     },
     "output_type": "display_data"
    }
   ],
   "source": [
    "X=np.array([np.ones(len(x2)),x2,np.multiply(x2, x2)], dtype = np.float32)\n",
    "X = np.transpose(X)\n",
    "w= np.dot(np.dot(inv(np.dot(np.transpose(X),X)),np.transpose(X)), t)\n",
    "print(w)\n",
    "y = np.dot(X,w)\n",
    "plt.scatter(x2,t)\n",
    "plt.scatter(x2,y)\n",
    "theta = gradientDescent(X[:,:2], t,np.ones(len(X[0])-1), 0.005, 20000 )\n",
    "y2 = np.dot(X[:,:2],theta[-1,:])\n",
    "plt.scatter(x2,y2)\n",
    "\n",
    "print(theta[1,:])"
   ]
  },
  {
   "cell_type": "markdown",
   "metadata": {},
   "source": [
    "**Q3. Regression model with regularisation**\n",
    "\n",
    "With the same data as in Question 2:\n",
    "\n",
    "a) Develop a Ridge regression solution (using weight decay regularization) using a batch gradient descent strategy. Plot the weights as a function of $\\lambda$ (lambda). What happens with $\\lambda$ increases? Why? <br>\n",
    "*Comment: Consider exponential steps for $\\lambda$, e.g. $\\lambda$ = logscale(-6,1,50).*<br>\n",
    "*Note: Remember that the parameters updates of the batch gradient descent with regularisation are defined as $w_j \\leftarrow w_j - \\alpha \\frac{1}{N}\\sum_{n=1}^N (y(\\vec{x}_n,\\vec{w}) - t_n)x_{n,j} - \\alpha \\lambda w_j$.*\n",
    "\n",
    "b) Execute a random selection of the 80% of the dataset for training and 20% for testing. Compute the Ridge regression solution (as in the previous exercice) for the 80% for the training set (80% of the dataset) and compute the error in the test set (20% of the dataset). Plot the error in the test set as a function of $\\lambda$ (e.g. the same $\\lambda$ as in the previous exercice). Comment the results."
   ]
  },
  {
   "cell_type": "code",
   "execution_count": null,
   "metadata": {
    "collapsed": true
   },
   "outputs": [],
   "source": []
  },
  {
   "cell_type": "markdown",
   "metadata": {},
   "source": [
    "**Q4. Optional:** Repeat Question 3 for a Lasso regression function."
   ]
  },
  {
   "cell_type": "code",
   "execution_count": null,
   "metadata": {
    "collapsed": true
   },
   "outputs": [],
   "source": []
  },
  {
   "cell_type": "markdown",
   "metadata": {},
   "source": [
    "**Q5: Predicting Selling Prices**\n",
    "Imagine that we were a real estate agent in the Boston area looking to use this model to help price homes owned by our clients that they wish to sell. You have collected the following information from three of your clients:\n",
    "\n",
    "| Feature | Client 1 | Client 2 | Client 3 |\n",
    "| --- | --- | --- | --- |\n",
    "| Total number of rooms | 5 rooms | 4 rooms | 8 rooms |\n",
    "| Neighborhood poverty level (as %) | 17% | 32 % | 3% |\n",
    "| Student-teacher ratio of nearby schools | 15-to-1 | 22-to-1 | 12-to-1 |\n",
    "\n",
    "\n",
    "a) What price would we recommend each client sell his/her home at? <br>\n",
    "b) Do these prices seem reasonable given the values for the respective features?\n"
   ]
  },
  {
   "cell_type": "code",
   "execution_count": null,
   "metadata": {},
   "outputs": [],
   "source": []
  }
 ],
 "metadata": {
  "kernelspec": {
   "display_name": "Python 3",
   "language": "python",
   "name": "python3"
  },
  "language_info": {
   "codemirror_mode": {
    "name": "ipython",
    "version": 3
   },
   "file_extension": ".py",
   "mimetype": "text/x-python",
   "name": "python",
   "nbconvert_exporter": "python",
   "pygments_lexer": "ipython3",
   "version": "3.7.0"
  }
 },
 "nbformat": 4,
 "nbformat_minor": 2
}
