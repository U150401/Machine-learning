{
 "cells": [
  {
   "cell_type": "markdown",
   "metadata": {},
   "source": [
    "# <center>MACHINE LEARNING <br> LAB Session 2</center>"
   ]
  },
  {
   "cell_type": "markdown",
   "metadata": {},
   "source": [
    "### Due date: up to June, 16th, 23:55h. \n",
    "### Submission procedure: via Aula Global.\n",
    "\n",
    "<br>\n",
    "\n",
    "## LAB description:\n",
    "\n",
    "In this seminar we build and analyze two of the main types of unsupervised classifiers in Machine Learning: K-means and Mixture of Gaussians.\n",
    "\n",
    "\n",
    "The main objectives of this seminar are:\n",
    "\n",
    "1) Build a K-means clustering from scratch.\n",
    "\n",
    "2) Train a Mixture of Gaussians and compare with K-means for several datasets. Identify pros and cons of each method.\n",
    "\n",
    "3) Apply clustering method for real use case: color compression of images.\n",
    "\n",
    "\n",
    "### Deliverables per team of two persons:\n",
    "A zip file consisting of:\n",
    "\n",
    "1. The Juptyer Notebook: it should be functional and have sufficient comments to allow for proper interpretation.\n",
    "\n",
    "2. A report including: <br>\n",
    "    (a) the answers to the questions formulated below (with a proper justification of your answers), <br>\n",
    "    (b) all the figures that appear in your code with appropiate explanations (all the figures must include axis labels, title and legend (if necessary)).\n",
    "\n",
    "_**Note 1** : make sure the plots you include are large enough to be readable (preferably no more than two figures per page)._<br>\n",
    "_**Note 2** : do not explain your code on the report, the code must be understood with the comments alone._<br>\n",
    "_**Note 3** : the report must be self contained, the reader should not have to look at the code to understand the report._"
   ]
  },
  {
   "cell_type": "markdown",
   "metadata": {},
   "source": [
    "***\n",
    "## EXERCISE 1 - K-means\n",
    " In this exercise we will cluster a set of points using a K-means method. To achieve this goal, we will build a K-means function from scratch taking into account two main aspects:\n",
    " \n",
    "**a) Number of cluster**, i.e. value of K\n",
    " \n",
    "**b) Number of iterations**, i.e. number maximum of iteration of the centroids' position adjustment\n",
    " \n",
    "Furthermore, we will develop a \"calculate_distance\" function that will determine the distance of each point to every centroid. "
   ]
  },
  {
   "cell_type": "markdown",
   "metadata": {},
   "source": [
    "### Data generation: creation of points and clusters (blobs)"
   ]
  },
  {
   "cell_type": "code",
   "execution_count": 1,
   "metadata": {},
   "outputs": [
    {
     "data": {
      "text/plain": [
       "<Figure size 640x480 with 1 Axes>"
      ]
     },
     "metadata": {},
     "output_type": "display_data"
    }
   ],
   "source": [
    "# Library import\n",
    "import matplotlib.pyplot as plt\n",
    "import matplotlib.mlab\n",
    "import math\n",
    "import seaborn as sns; sns.set()  # for plot styling\n",
    "import numpy as np\n",
    "import pandas as pd\n",
    "from sklearn.datasets.samples_generator import make_blobs\n",
    "\n",
    "#Points generation\n",
    "X, y_true = make_blobs(n_samples=300, centers=4, cluster_std=0.60, random_state=0)\n",
    "\n",
    "#Data visualization\n",
    "plt.scatter(X[:, 0], X[:, -1])\n",
    "plt.xlabel('X Coordinates')\n",
    "plt.ylabel('Y Coordinates')\n",
    "plt.show()"
   ]
  },
  {
   "cell_type": "markdown",
   "metadata": {},
   "source": [
    "**Q1) How many clusters do you identify by visual inspection? Any point under doubt?**"
   ]
  },
  {
   "cell_type": "markdown",
   "metadata": {},
   "source": [
    "### K-means function\n",
    "Develop a K-means function with 4 parameters:\n",
    "\n",
    "1) Data to classify\n",
    "\n",
    "2) Seed for random initialization\n",
    "\n",
    "3) Number of iteration to convergence centroids\n",
    "\n",
    "4) A flag to show or not the centroid evolution"
   ]
  },
  {
   "cell_type": "code",
   "execution_count": 72,
   "metadata": {},
   "outputs": [],
   "source": [
    "from sklearn.metrics import pairwise_distances_argmin\n",
    "import numpy as np\n",
    "\n",
    "\n",
    "#Function to calculate the distance between each point and the centroid\n",
    "def calculate_distance (X, centroids):\n",
    "    squareDistance=[]\n",
    "    for centroid in centroids:\n",
    "        x = (X-centroid)**2\n",
    "        #print(x)\n",
    "        squareDistance.append((x[:,0]+x[:,-1])**(1))\n",
    "        \n",
    "        #squareDistance.append(np.dot(X-centroid, X-centroid))\n",
    "    return np.matrix(np.transpose(squareDistance))\n",
    "\n",
    "\n",
    "\n",
    "\n",
    "def K_means_clustering(X, n_clusters, seed=1, num_iterations=10, show_centroids=True):\n",
    "    # Initialitize centroids based on a random selection of #n_clusters samples of X \n",
    "    rng = np.random.RandomState(seed)\n",
    "    i = rng.permutation(X.shape[0])[:n_clusters] \n",
    "    centroids = X[i]\n",
    "    #print(centroids)\n",
    "    #Repeat the process during num_iterations or convergence achieved\n",
    "    distances = calculate_distance(X,centroids)\n",
    "    #print(distances)\n",
    "    new_centroids = np.zeros((n_clusters,2))\n",
    "    for num in range(0,num_iterations):\n",
    "    \n",
    "    #For each iteration, calculate the shortest distance of each point of X to centroids\n",
    "    #Labels are based on the index in the centroids array\n",
    "        \n",
    "        \n",
    "        distances = calculate_distance(X,centroids)\n",
    "        clusters = distances.argmin(1)\n",
    "        \n",
    "        \n",
    "        for i in range(0,n_clusters):\n",
    "            mean = np.zeros((1,2))\n",
    "            for x in (np.where(clusters == i)[0]):\n",
    "                mean = mean + X[x]\n",
    "            new_centroids[i]=mean /len(np.where(clusters == i)[0])\n",
    "            #new_centroids[i]= mean    \n",
    "        \n",
    "        \n",
    "        print(centroids)\n",
    "              \n",
    "        #print(results)\n",
    "        # Evaluate convergence: if new_centroids=centroids, stop iterations\n",
    "        '''\n",
    "        if np.all(centroids == new_centroids):\n",
    "            print('Convergence achieved with:',num, 'iterations')\n",
    "            break\n",
    "        else:\n",
    "            if num%10 == 0 and num != 0:\n",
    "                print('No convergence yet after', num, 'iterations')\n",
    "        '''        \n",
    "        \n",
    "        labels = np.transpose(np.array(clusters))[0]\n",
    "        #print(labels)\n",
    "        \n",
    "        #Plot the centroid evolution if show_centroids=True\n",
    "        \n",
    "        if(show_centroids==True):\n",
    "            plt.scatter(X[:, 0], X[:, -1],c = labels , s =40, cmap = 'viridis')\n",
    "            plt.scatter(centroids[:,0],centroids[:,1], s = 200)\n",
    "            plt.xlabel('X Coordinates')\n",
    "            plt.ylabel('Y Coordinates')\n",
    "            plt.draw()\n",
    "        centroids = new_centroids\n",
    "        \n",
    "    distances = calculate_distance(X,centroids)\n",
    "    clusters = distances.argmin(1)\n",
    "    \n",
    "    labels = np.transpose(np.array(clusters))[0] \n",
    "    #print(labels)\n",
    "    return centroids, labels"
   ]
  },
  {
   "cell_type": "markdown",
   "metadata": {},
   "source": [
    "**Q2) Execute K_means function with K=2, 3, 4 and 8 and number of iterations=15. From your point of view, which is the best value for K? How many iterations are needed to achieved convergence of centroids?**"
   ]
  },
  {
   "cell_type": "code",
   "execution_count": 73,
   "metadata": {},
   "outputs": [
    {
     "name": "stdout",
     "output_type": "stream",
     "text": [
      "[[-1.73163168  7.16447286]\n",
      " [ 1.34195197  0.59357385]\n",
      " [ 1.43289271  4.37679234]\n",
      " [ 1.71444449  5.02521524]]\n",
      "[[-1.37324398  7.75368871]\n",
      " [ 1.94385045  0.87306002]\n",
      " [-1.01691695  3.1575702 ]\n",
      " [ 1.16814556  4.65734294]]\n",
      "[[-1.37324398  7.75368871]\n",
      " [ 1.98258281  0.86771314]\n",
      " [-1.49500323  2.87141784]\n",
      " [ 0.99305006  4.46336785]]\n",
      "[[-1.37324398  7.75368871]\n",
      " [ 1.98258281  0.86771314]\n",
      " [-1.58438467  2.83081263]\n",
      " [ 0.94973532  4.41906906]]\n",
      "[[-1.37324398  7.75368871]\n",
      " [ 1.98258281  0.86771314]\n",
      " [-1.58438467  2.83081263]\n",
      " [ 0.94973532  4.41906906]]\n",
      "[[-1.37324398  7.75368871]\n",
      " [ 1.98258281  0.86771314]\n",
      " [-1.58438467  2.83081263]\n",
      " [ 0.94973532  4.41906906]]\n",
      "[[-1.37324398  7.75368871]\n",
      " [ 1.98258281  0.86771314]\n",
      " [-1.58438467  2.83081263]\n",
      " [ 0.94973532  4.41906906]]\n",
      "[[-1.37324398  7.75368871]\n",
      " [ 1.98258281  0.86771314]\n",
      " [-1.58438467  2.83081263]\n",
      " [ 0.94973532  4.41906906]]\n",
      "[[-1.37324398  7.75368871]\n",
      " [ 1.98258281  0.86771314]\n",
      " [-1.58438467  2.83081263]\n",
      " [ 0.94973532  4.41906906]]\n",
      "[[-1.37324398  7.75368871]\n",
      " [ 1.98258281  0.86771314]\n",
      " [-1.58438467  2.83081263]\n",
      " [ 0.94973532  4.41906906]]\n"
     ]
    },
    {
     "data": {
      "text/plain": [
       "[]"
      ]
     },
     "execution_count": 73,
     "metadata": {},
     "output_type": "execute_result"
    },
    {
     "data": {
      "image/png": "[encoded data removed]",
      "text/plain": [
       "<Figure size 432x288 with 1 Axes>"
      ]
     },
     "metadata": {
      "needs_background": "light"
     },
     "output_type": "display_data"
    }
   ],
   "source": [
    "#Execute K-means clustering and show the evolution of centroids\n",
    "centroid, labels = K_means_clustering(X, 4, seed=1, num_iterations=10, show_centroids=True)\n",
    "plt.scatter(X[:, 0], X[:, -1],c = labels , s =40, cmap = 'viridis')\n",
    "plt.scatter(centroid[:,0],centroid[:,1], s = 200)\n",
    "plt.xlabel('X Coordinates')\n",
    "plt.ylabel('Y Coordinates')\n",
    "plt.plot()\n"
   ]
  },
  {
   "cell_type": "markdown",
   "metadata": {},
   "source": [
    "**Q3) Execute _K_means_ _ _clustering_ function with K=4 and number of iterations=15. How many iterations are required? Print the final centroids position and plot them with the data.**"
   ]
  },
  {
   "cell_type": "code",
   "execution_count": 4,
   "metadata": {},
   "outputs": [
    {
     "ename": "NameError",
     "evalue": "name 'labels_kmeans' is not defined",
     "output_type": "error",
     "traceback": [
      "\u001b[1;31m---------------------------------------------------------------------------\u001b[0m",
      "\u001b[1;31mNameError\u001b[0m                                 Traceback (most recent call last)",
      "\u001b[1;32m<ipython-input-4-7dd78f27bc63>\u001b[0m in \u001b[0;36m<module>\u001b[1;34m()\u001b[0m\n\u001b[0;32m      7\u001b[0m \u001b[1;33m\u001b[0m\u001b[0m\n\u001b[0;32m      8\u001b[0m \u001b[1;31m#Plot points according to their last clustering\u001b[0m\u001b[1;33m\u001b[0m\u001b[1;33m\u001b[0m\u001b[0m\n\u001b[1;32m----> 9\u001b[1;33m \u001b[0mplt\u001b[0m\u001b[1;33m.\u001b[0m\u001b[0mscatter\u001b[0m\u001b[1;33m(\u001b[0m\u001b[0mX\u001b[0m\u001b[1;33m[\u001b[0m\u001b[1;33m:\u001b[0m\u001b[1;33m,\u001b[0m \u001b[1;36m0\u001b[0m\u001b[1;33m]\u001b[0m\u001b[1;33m,\u001b[0m \u001b[0mX\u001b[0m\u001b[1;33m[\u001b[0m\u001b[1;33m:\u001b[0m\u001b[1;33m,\u001b[0m \u001b[1;36m1\u001b[0m\u001b[1;33m]\u001b[0m\u001b[1;33m,\u001b[0m \u001b[0mc\u001b[0m\u001b[1;33m=\u001b[0m\u001b[0mlabels_kmeans\u001b[0m\u001b[1;33m,\u001b[0m \u001b[0ms\u001b[0m\u001b[1;33m=\u001b[0m\u001b[1;36m50\u001b[0m\u001b[1;33m,\u001b[0m \u001b[0mcmap\u001b[0m\u001b[1;33m=\u001b[0m\u001b[1;34m'viridis'\u001b[0m\u001b[1;33m)\u001b[0m\u001b[1;33m\u001b[0m\u001b[0m\n\u001b[0m\u001b[0;32m     10\u001b[0m \u001b[1;33m\u001b[0m\u001b[0m\n\u001b[0;32m     11\u001b[0m \u001b[1;31m#Plot last centroids\u001b[0m\u001b[1;33m\u001b[0m\u001b[1;33m\u001b[0m\u001b[0m\n",
      "\u001b[1;31mNameError\u001b[0m: name 'labels_kmeans' is not defined"
     ]
    }
   ],
   "source": [
    "#Execute K-means clustering without showing the evolution of centroids\n",
    "##################\n",
    "# Add your code  #\n",
    "#      HERE      #\n",
    "##################\n",
    "\n",
    "\n",
    "#Plot points according to their last clustering\n",
    "plt.scatter(X[:, 0], X[:, 1], c=labels_kmeans, s=50, cmap='viridis')\n",
    "\n",
    "#Plot last centroids\n",
    "#################\n",
    "# Add your code  #\n",
    "#      HERE      #\n",
    "##################\n",
    "\n",
    "\n",
    "\n",
    "print(centroids)"
   ]
  },
  {
   "cell_type": "markdown",
   "metadata": {},
   "source": [
    "**Q4) Calculate distance to each centroid and evaluate for the first 5 data points. Is the cluster allocation consistent with the distant to each centroid?**"
   ]
  },
  {
   "cell_type": "code",
   "execution_count": null,
   "metadata": {},
   "outputs": [],
   "source": [
    "#Calculate distance to each centroids and evaluate for the first 5 points\n",
    "#################\n",
    "# Add your code  #\n",
    "#      HERE      #\n",
    "##################\n",
    "\n",
    "distance_tocentroids = ?\n",
    "\n",
    "labels2=labels.reshape(-1,1)\n",
    "X_results=np.append(X, labels2, axis=1)\n",
    "X_results=np.append(X_results, distance_tocentroids,axis=1)\n",
    "print (X_results[:5])"
   ]
  },
  {
   "cell_type": "markdown",
   "metadata": {},
   "source": [
    "***\n",
    "## EXERCISE 2 - Mixtures of Gaussians (MofG)\n",
    "\n",
    "In this exercise we will cluster the same set of points as in K-means but using a Mixture of Gaussians method. \n",
    "One of the key differences of Mixture of Gaussians(MofG) with respect to K-means is that MofG contains a probabilistic model. Therefore, it is possible to find probabilistic cluster assignments for each point.\n",
    "\n",
    "Finally, we will compare both clustering methods, i.e. K-means and Mixture of Gaussians, in two scenarios of point distribution and we will evaluate their differences."
   ]
  },
  {
   "cell_type": "markdown",
   "metadata": {},
   "source": [
    "**Q5) Create a MofG model for X using Sklearn library. In comparision with K-means (K=4), is there any difference? Explain them.**"
   ]
  },
  {
   "cell_type": "code",
   "execution_count": null,
   "metadata": {
    "scrolled": true
   },
   "outputs": [],
   "source": [
    "#Import Gaussian Mixture function from sklearn library\n",
    "from sklearn.mixture import GaussianMixture\n",
    "\n",
    "#Create a model with 4 components, fit it to X and clusterise the data matrix X with it\n",
    "\n",
    "#################\n",
    "# Add your code  #\n",
    "#      HERE      #\n",
    "##################\n",
    "\n",
    "labels_gmm = ?\n",
    "\n",
    "\n",
    "#Plot the points with their corresponding labels after clustering\n",
    "plt.xlabel('X1')\n",
    "plt.ylabel('X2')\n",
    "plt.title('Gaussian Mixture clustering')\n",
    "plt.scatter(X[:, 0], X[:, 1], c=labels_gmm, s=40, cmap='viridis');"
   ]
  },
  {
   "cell_type": "markdown",
   "metadata": {},
   "source": [
    "**Q6) For each point, estimate the probability of belonging to each cluster. In the resulting figure, why do some points have a smaller size?**"
   ]
  },
  {
   "cell_type": "code",
   "execution_count": null,
   "metadata": {},
   "outputs": [],
   "source": [
    "#Estimate the probability of belonging to each cluster for the top 10\n",
    "\n",
    "#################\n",
    "# Add your code  #\n",
    "#      HERE      #\n",
    "##################\n",
    "\n",
    "probs = ?\n",
    "\n",
    "\n",
    "#Create a dataset with probabilities and show them for the top 10\n",
    "probs_dataset = pd.DataFrame({'Prob_C1': probs[:, 0],'Prob_C2': probs[:, 1], 'Prob_C3': probs[:, 2],'Prob_C4': probs[:, 3]})\n",
    "print(probs_dataset[:10].round(3))"
   ]
  },
  {
   "cell_type": "code",
   "execution_count": null,
   "metadata": {},
   "outputs": [],
   "source": [
    "#Plot GMM cluster based on the probability to belong to each one\n",
    "size = 50 * probs.max(1) ** 100  # to emphasize differences between probabilities of each point\n",
    "plt.scatter(X[:, 0], X[:, 1], c=labels_gmm, cmap='viridis', s=size);"
   ]
  },
  {
   "cell_type": "markdown",
   "metadata": {},
   "source": [
    "### K-means and Mixture of Gaussians comparision\n",
    "\n",
    "As in K-means, Gaussian mixture model uses an expectation–maximization strategy:\n",
    "\n",
    "1st) Choose starting guesses for the location and shape\n",
    "\n",
    "2nd) Repeat until convergence:\n",
    "\n",
    "E-step: for each point, find weights encoding the probability of membership in each cluster\n",
    "M-step: for each cluster, update its location, normalization, and shape based on all data points, making use of the weights\n",
    "\n",
    "\n",
    "The result of this is that each cluster is associated with a smooth Gaussian model. \n",
    "\n",
    "In this exercise, we will evaluate the distribution of a Mixture of Gaussians clustering and its difference with K-means in two different X dataset distribution:\n",
    "\n",
    "1) Normal point dataset\n",
    "\n",
    "2) Stretched version of the point dataset\n",
    "\n",
    "Firstly, let's create a new function to plot Mixture of Gaussians clusters and its ellipses associated to each distribution."
   ]
  },
  {
   "cell_type": "code",
   "execution_count": null,
   "metadata": {},
   "outputs": [],
   "source": [
    "#Create a function to draw the clusters and the ellipses based on Mixture of Gaussians clustering output\n",
    "from matplotlib.patches import Ellipse\n",
    "\n",
    "def draw_ellipse(position, covariance, ax=None, **kwargs):\n",
    "    \"\"\"Draw an ellipse with a given position and covariance\"\"\"\n",
    "    ax = ax or plt.gca()\n",
    "    \n",
    "    # Convert covariance to principal axes\n",
    "    if covariance.shape == (2, 2):\n",
    "        U, s, Vt = np.linalg.svd(covariance)\n",
    "        angle = np.degrees(np.arctan2(U[1, 0], U[0, 0]))\n",
    "        width, height = 2 * np.sqrt(s)\n",
    "    else:\n",
    "        angle = 0\n",
    "        width, height = 2 * np.sqrt(covariance)\n",
    "    \n",
    "    # Draw the Ellipse\n",
    "    for nsig in range(1, 4):\n",
    "        ax.add_patch(Ellipse(position, nsig * width, nsig * height,\n",
    "                             angle, **kwargs))\n",
    "        \n",
    "def plot_gmm(gmm, X, label=True, ax=None):\n",
    "    fig,ax = plt.subplots(figsize=(10,10))\n",
    "    ax = ax or plt.gca()\n",
    "    labels = gmm.fit(X).predict(X)\n",
    "    if label:\n",
    "        ax.scatter(X[:, 0], X[:, 1], c=labels, s=40, cmap='viridis', zorder=2)\n",
    "    else:\n",
    "        ax.scatter(X[:, 0], X[:, 1], s=40, zorder=2)\n",
    "    ax.axis('equal')\n",
    "    w_factor = 0.2 / gmm.weights_.max()\n",
    "    for pos, covar, w in zip(gmm.means_, gmm.covariances_, gmm.weights_):\n",
    "        draw_ellipse(pos, covar, alpha=w * w_factor)"
   ]
  },
  {
   "cell_type": "markdown",
   "metadata": {},
   "source": [
    "**Q7) Execute the _plot_ _ _gmm_ function with X. Explain the result of the cluster output.**"
   ]
  },
  {
   "cell_type": "code",
   "execution_count": null,
   "metadata": {},
   "outputs": [],
   "source": [
    "#Execute the plot_gmm function with X\n",
    "#################\n",
    "# Add your code  #\n",
    "#      HERE      #\n",
    "##################\n"
   ]
  },
  {
   "cell_type": "markdown",
   "metadata": {},
   "source": [
    "**Q8)  Plot the K-means and the MofG clusters. Explain the differences between K-means and Gaussian Mixture clustering methods.**"
   ]
  },
  {
   "cell_type": "code",
   "execution_count": null,
   "metadata": {},
   "outputs": [],
   "source": [
    "#Plot the Gaussian Mixture Model for X dataset\n",
    "\n",
    "#################\n",
    "# Add your code  #\n",
    "#      HERE      #\n",
    "##################\n",
    "\n",
    "\n",
    "#Plot the K-means for X dataset\n",
    "\n",
    "#################\n",
    "# Add your code  #\n",
    "#      HERE      #\n",
    "##################\n",
    "\n"
   ]
  },
  {
   "cell_type": "markdown",
   "metadata": {},
   "source": [
    "**Q9) For the new dataset _X_stretched_, plot the resulting clusters with K-means and MofG. Which is the clustering methodology that fits better the new dataset distribution? Why?**"
   ]
  },
  {
   "cell_type": "code",
   "execution_count": null,
   "metadata": {},
   "outputs": [],
   "source": [
    "#Create a new version of X changing its distribution and plot it\n",
    "rng = np.random.RandomState(13)\n",
    "X_stretched = np.dot(X, rng.randn(2, 2))\n",
    "plt.figure(figsize=(20,10))\n",
    "\n",
    "\n",
    "#Execute K-means (K=4) with the new X_strethed dataset and plot it\n",
    "#################\n",
    "# Add your code  #\n",
    "#      HERE      #\n",
    "##################\n",
    "\n",
    "\n",
    "#Execute Gaussian of Mixture (K=4) with the new X_strethed dataset and plot it\n",
    "#################\n",
    "# Add your code  #\n",
    "#      HERE      #\n",
    "##################\n"
   ]
  },
  {
   "cell_type": "markdown",
   "metadata": {},
   "source": [
    "**Q10) Plot the MofG clusters and the Gaussian ellipses and explain the resulting figure. Identify in the figure the points with high probability of belonging to several clusters. Which clusters does the K-means method assign these points to?**"
   ]
  },
  {
   "cell_type": "code",
   "execution_count": null,
   "metadata": {
    "scrolled": false
   },
   "outputs": [],
   "source": [
    "#Plot the Gaussian Mixture Model distribution for new X_stretched dataset\n",
    "\n",
    "#################\n",
    "# Add your code  #\n",
    "#      HERE      #\n",
    "##################\n",
    "\n"
   ]
  },
  {
   "cell_type": "markdown",
   "metadata": {},
   "source": [
    "***\n",
    "## EXERCISE 3 - Image color compression using clustering"
   ]
  },
  {
   "cell_type": "markdown",
   "metadata": {},
   "source": [
    "Clustering is a very interesting and useful technique with a lot of applications: customer segmentation, recommendation engines, and so on. One interesting application is image compression. \n",
    "In this exercise, we will compress a flower image just reducing the number of colours in the image. \n",
    "This real application is based on the fact that in most images, a large number of the colors will be indistinguishable by the human eye. Therefore, **image compression based on clustering allows to reduce the number of these colours that cannot be detected.**"
   ]
  },
  {
   "cell_type": "code",
   "execution_count": null,
   "metadata": {},
   "outputs": [],
   "source": [
    "#Import image library and load the \"flower.jpg\"\n",
    "from sklearn.datasets import load_sample_image\n",
    "flower = load_sample_image(\"flower.jpg\")\n",
    "\n",
    "#Plot the image\n",
    "fig,ax = plt.subplots(figsize=(10,10))\n",
    "ax = plt.axes(xticks=[], yticks=[])\n",
    "ax.imshow(flower);"
   ]
  },
  {
   "cell_type": "markdown",
   "metadata": {},
   "source": [
    "The image itself is stored in a three-dimensional array of size (height, width, RGB), containing red/blue/green contributions as integers from 0 to 255:"
   ]
  },
  {
   "cell_type": "code",
   "execution_count": null,
   "metadata": {},
   "outputs": [],
   "source": [
    "#Verify the shape of the flower dataset\n",
    "flower.shape"
   ]
  },
  {
   "cell_type": "markdown",
   "metadata": {},
   "source": [
    "**Create a 2D data matrix containing all the pixels in the image in rows and the RGB values in columns, i.e., vectorise the image to a (height*width) x 3 matrix. Then rescale the RGB values to [0,1] scale.**"
   ]
  },
  {
   "cell_type": "code",
   "execution_count": null,
   "metadata": {},
   "outputs": [],
   "source": [
    "#As each pixel has a value between 0 and 255, we will reshape the data (vectorising the image) and rescale it to [0-1] scale\n",
    "#################\n",
    "# Add your code  #\n",
    "#      HERE      #\n",
    "##################\n",
    "\n",
    "#Solution\n",
    "data = flower / 255.0 # use 0...1 scale\n",
    "data = data.reshape(427 * 640, 3)\n",
    "data.shape"
   ]
  },
  {
   "cell_type": "markdown",
   "metadata": {},
   "source": [
    "**Apply K-means clustering to the 2D data matrix with K=5 and calculate the new colors of each pixels based on the centroids of each cluster.**"
   ]
  },
  {
   "cell_type": "code",
   "execution_count": null,
   "metadata": {},
   "outputs": [],
   "source": [
    "#Apply a K-means with K=5: create the model and fit to the rescaled image\n",
    "#################\n",
    "# Add your code  #\n",
    "#      HERE      #\n",
    "##################\n",
    "\n",
    "#Solution\n",
    "# kmeans = KMeans(n_clusters=5, random_state=0)\n",
    "# kmeans.fit(data)\n",
    "centroids, labels = K_means_clustering(data, 5, seed=1, num_iterations=50, show_centroids=False)\n",
    "\n",
    "\n",
    "#Calculate the new colours based on the centroids of each cluster\n",
    "#################\n",
    "# Add your code  #\n",
    "#      HERE      #\n",
    "##################\n",
    "\n",
    "#Solution\n",
    "# new_colors = kmeans.cluster_centers_[kmeans.predict(data)]\n",
    "new_colors = centroids[labels,:]"
   ]
  },
  {
   "cell_type": "markdown",
   "metadata": {},
   "source": [
    "**Q11) Explain the differences between the orginal and the clustered images.**"
   ]
  },
  {
   "cell_type": "code",
   "execution_count": null,
   "metadata": {},
   "outputs": [],
   "source": [
    "#Apply the new colours to the image and plot both images\n",
    "flower_recolored = new_colors.reshape(flower.shape)\n",
    "\n",
    "fig, ax = plt.subplots(1, 2, figsize=(16, 6),subplot_kw=dict(xticks=[], yticks=[]))\n",
    "fig.subplots_adjust(wspace=0.05)\n",
    "ax[0].imshow(flower)\n",
    "ax[0].set_title('Original Flower Image', size=16)\n",
    "ax[1].imshow(flower_recolored)\n",
    "ax[1].set_title('New color Flower Image with K colours', size=16);"
   ]
  },
  {
   "cell_type": "markdown",
   "metadata": {},
   "source": [
    "**Q12)  Repeat image compression with K=2, 10 and 20. Which are the main differences?**"
   ]
  },
  {
   "cell_type": "code",
   "execution_count": null,
   "metadata": {},
   "outputs": [],
   "source": []
  }
 ],
 "metadata": {
  "kernelspec": {
   "display_name": "Python 3",
   "language": "python",
   "name": "python3"
  },
  "language_info": {
   "codemirror_mode": {
    "name": "ipython",
    "version": 3
   },
   "file_extension": ".py",
   "mimetype": "text/x-python",
   "name": "python",
   "nbconvert_exporter": "python",
   "pygments_lexer": "ipython3",
   "version": "3.7.0"
  },
  "latex_envs": {
   "LaTeX_envs_menu_present": true,
   "autoclose": false,
   "autocomplete": true,
   "bibliofile": "biblio.bib",
   "cite_by": "apalike",
   "current_citInitial": 1,
   "eqLabelWithNumbers": true,
   "eqNumInitial": 1,
   "hotkeys": {
    "equation": "Ctrl-E",
    "itemize": "Ctrl-I"
   },
   "labels_anchors": false,
   "latex_user_defs": false,
   "report_style_numbering": false,
   "user_envs_cfg": false
  },
  "varInspector": {
   "cols": {
    "lenName": 16,
    "lenType": 16,
    "lenVar": 40
   },
   "kernels_config": {
    "python": {
     "delete_cmd_postfix": "",
     "delete_cmd_prefix": "del ",
     "library": "var_list.py",
     "varRefreshCmd": "print(var_dic_list())"
    },
    "r": {
     "delete_cmd_postfix": ") ",
     "delete_cmd_prefix": "rm(",
     "library": "var_list.r",
     "varRefreshCmd": "cat(var_dic_list()) "
    }
   },
   "position": {
    "height": "496px",
    "left": "1559px",
    "right": "20px",
    "top": "120px",
    "width": "578px"
   },
   "types_to_exclude": [
    "module",
    "function",
    "builtin_function_or_method",
    "instance",
    "_Feature"
   ],
   "window_display": true
  }
 },
 "nbformat": 4,
 "nbformat_minor": 2
}
